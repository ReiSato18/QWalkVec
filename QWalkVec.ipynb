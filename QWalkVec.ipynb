{
 "cells": [
  {
   "cell_type": "code",
   "execution_count": 1,
   "id": "174b4b12",
   "metadata": {},
   "outputs": [],
   "source": [
    "using LinearAlgebra\n",
    "using Random\n",
    "using StatsBase\n",
    "using GraphPlot\n",
    "using Graphs\n",
    "using DelimitedFiles\n",
    "using LaTeXStrings\n",
    "using CSV,DataFrames"
   ]
  },
  {
   "cell_type": "code",
   "execution_count": 2,
   "id": "78fdcce7",
   "metadata": {},
   "outputs": [
    {
     "data": {
      "text/html": [
       "<div class=\"data-frame\"><p>78 rows × 2 columns</p><table class=\"data-frame\"><thead><tr><th></th><th>Column1</th><th>Column2</th></tr><tr><th></th><th title=\"Int64\">Int64</th><th title=\"Int64\">Int64</th></tr></thead><tbody><tr><th>1</th><td>2</td><td>1</td></tr><tr><th>2</th><td>3</td><td>1</td></tr><tr><th>3</th><td>4</td><td>1</td></tr><tr><th>4</th><td>5</td><td>1</td></tr><tr><th>5</th><td>6</td><td>1</td></tr><tr><th>6</th><td>7</td><td>1</td></tr><tr><th>7</th><td>8</td><td>1</td></tr><tr><th>8</th><td>9</td><td>1</td></tr><tr><th>9</th><td>11</td><td>1</td></tr><tr><th>10</th><td>12</td><td>1</td></tr><tr><th>11</th><td>13</td><td>1</td></tr><tr><th>12</th><td>14</td><td>1</td></tr><tr><th>13</th><td>18</td><td>1</td></tr><tr><th>14</th><td>20</td><td>1</td></tr><tr><th>15</th><td>22</td><td>1</td></tr><tr><th>16</th><td>32</td><td>1</td></tr><tr><th>17</th><td>3</td><td>2</td></tr><tr><th>18</th><td>4</td><td>2</td></tr><tr><th>19</th><td>8</td><td>2</td></tr><tr><th>20</th><td>14</td><td>2</td></tr><tr><th>21</th><td>18</td><td>2</td></tr><tr><th>22</th><td>20</td><td>2</td></tr><tr><th>23</th><td>22</td><td>2</td></tr><tr><th>24</th><td>31</td><td>2</td></tr><tr><th>25</th><td>4</td><td>3</td></tr><tr><th>26</th><td>8</td><td>3</td></tr><tr><th>27</th><td>9</td><td>3</td></tr><tr><th>28</th><td>10</td><td>3</td></tr><tr><th>29</th><td>14</td><td>3</td></tr><tr><th>30</th><td>28</td><td>3</td></tr><tr><th>&vellip;</th><td>&vellip;</td><td>&vellip;</td></tr></tbody></table></div>"
      ],
      "text/latex": [
       "\\begin{tabular}{r|cc}\n",
       "\t& Column1 & Column2\\\\\n",
       "\t\\hline\n",
       "\t& Int64 & Int64\\\\\n",
       "\t\\hline\n",
       "\t1 & 2 & 1 \\\\\n",
       "\t2 & 3 & 1 \\\\\n",
       "\t3 & 4 & 1 \\\\\n",
       "\t4 & 5 & 1 \\\\\n",
       "\t5 & 6 & 1 \\\\\n",
       "\t6 & 7 & 1 \\\\\n",
       "\t7 & 8 & 1 \\\\\n",
       "\t8 & 9 & 1 \\\\\n",
       "\t9 & 11 & 1 \\\\\n",
       "\t10 & 12 & 1 \\\\\n",
       "\t11 & 13 & 1 \\\\\n",
       "\t12 & 14 & 1 \\\\\n",
       "\t13 & 18 & 1 \\\\\n",
       "\t14 & 20 & 1 \\\\\n",
       "\t15 & 22 & 1 \\\\\n",
       "\t16 & 32 & 1 \\\\\n",
       "\t17 & 3 & 2 \\\\\n",
       "\t18 & 4 & 2 \\\\\n",
       "\t19 & 8 & 2 \\\\\n",
       "\t20 & 14 & 2 \\\\\n",
       "\t21 & 18 & 2 \\\\\n",
       "\t22 & 20 & 2 \\\\\n",
       "\t23 & 22 & 2 \\\\\n",
       "\t24 & 31 & 2 \\\\\n",
       "\t25 & 4 & 3 \\\\\n",
       "\t26 & 8 & 3 \\\\\n",
       "\t27 & 9 & 3 \\\\\n",
       "\t28 & 10 & 3 \\\\\n",
       "\t29 & 14 & 3 \\\\\n",
       "\t30 & 28 & 3 \\\\\n",
       "\t$\\dots$ & $\\dots$ & $\\dots$ \\\\\n",
       "\\end{tabular}\n"
      ],
      "text/plain": [
       "\u001b[1m78×2 DataFrame\u001b[0m\n",
       "\u001b[1m Row \u001b[0m│\u001b[1m Column1 \u001b[0m\u001b[1m Column2 \u001b[0m\n",
       "\u001b[1m     \u001b[0m│\u001b[90m Int64   \u001b[0m\u001b[90m Int64   \u001b[0m\n",
       "─────┼──────────────────\n",
       "   1 │       2        1\n",
       "   2 │       3        1\n",
       "   3 │       4        1\n",
       "   4 │       5        1\n",
       "   5 │       6        1\n",
       "   6 │       7        1\n",
       "   7 │       8        1\n",
       "   8 │       9        1\n",
       "   9 │      11        1\n",
       "  10 │      12        1\n",
       "  11 │      13        1\n",
       "  ⋮  │    ⋮        ⋮\n",
       "  69 │      34       28\n",
       "  70 │      32       29\n",
       "  71 │      34       29\n",
       "  72 │      33       30\n",
       "  73 │      34       30\n",
       "  74 │      33       31\n",
       "  75 │      34       31\n",
       "  76 │      33       32\n",
       "  77 │      34       32\n",
       "  78 │      34       33\n",
       "\u001b[36m         57 rows omitted\u001b[0m"
      ]
     },
     "execution_count": 2,
     "metadata": {},
     "output_type": "execute_result"
    }
   ],
   "source": [
    "data_set_name = [\"Karate\", \"webkb\", \"ppi\", \"dd199\"]\n",
    "X = data_set_name[1]\n",
    "edge_data = CSV.read(\"dataset/\"*\"$X\"*\"/\"*\"$X\"*\"_edge.csv\", header=0, delim=\" \", DataFrame)"
   ]
  },
  {
   "cell_type": "code",
   "execution_count": 3,
   "id": "f909c246",
   "metadata": {},
   "outputs": [
    {
     "data": {
      "text/plain": [
       "{34, 78} undirected simple Int64 graph"
      ]
     },
     "execution_count": 3,
     "metadata": {},
     "output_type": "execute_result"
    }
   ],
   "source": [
    "function Data_network(data)\n",
    "    n = maximum([maximum(data.Column1),maximum(data.Column2)])\n",
    "    g = Graphs.SimpleGraph(n)\n",
    "    len = length(data[:,1])\n",
    "    for i in 1:len\n",
    "        Graphs.add_edge!(g, data[i,1], data[i,2])\n",
    "        Graphs.add_edge!(g, data[i,2], data[i,1])\n",
    "    end\n",
    "    return g\n",
    "end\n",
    "#function main_component(g)\n",
    "#    c = connected_components(g)\n",
    "#    _, i = findmax(length.(c))\n",
    "#    g[c[i]]\n",
    "#end\n",
    "G = Data_network(edge_data)"
   ]
  },
  {
   "cell_type": "markdown",
   "id": "ac3e0bf7",
   "metadata": {},
   "source": [
    "# determining param $w_{i,j}^{v_0}$"
   ]
  },
  {
   "cell_type": "code",
   "execution_count": 16,
   "id": "9e8a2679",
   "metadata": {},
   "outputs": [
    {
     "data": {
      "text/plain": [
       "Dict{Tuple{Int64, Int64}, Float64} with 156 entries:\n",
       "  (31, 33) => 10.0\n",
       "  (1, 12)  => 10.0\n",
       "  (3, 29)  => 10.0\n",
       "  (7, 1)   => 2.0\n",
       "  (28, 34) => 10.0\n",
       "  (33, 23) => 10.0\n",
       "  (23, 34) => 2.0\n",
       "  (3, 28)  => 10.0\n",
       "  (7, 17)  => 10.0\n",
       "  (9, 3)   => 2.0\n",
       "  (25, 26) => 10.0\n",
       "  (2, 22)  => 1.0\n",
       "  (5, 11)  => 10.0\n",
       "  (1, 9)   => 10.0\n",
       "  (2, 1)   => 1.0\n",
       "  (21, 33) => 2.0\n",
       "  (18, 1)  => 10.0\n",
       "  (29, 3)  => 2.0\n",
       "  (33, 15) => 10.0\n",
       "  (34, 10) => 10.0\n",
       "  (2, 18)  => 1.0\n",
       "  (2, 8)   => 1.0\n",
       "  (34, 27) => 10.0\n",
       "  (34, 24) => 10.0\n",
       "  (6, 11)  => 10.0\n",
       "  ⋮        => ⋮"
      ]
     },
     "execution_count": 16,
     "metadata": {},
     "output_type": "execute_result"
    }
   ],
   "source": [
    "function w_ij_x0(l, i, j, p, q)    \n",
    "    if l[i] == 0\n",
    "        return 1.0\n",
    "    elseif l[i] > l[j]\n",
    "        return 1/p\n",
    "    elseif l[i] == l[j]\n",
    "        return 1/q\n",
    "    elseif l[i] < l[j]\n",
    "        return 1/q\n",
    "    end\n",
    "end\n",
    "\n",
    "function determin_param(G, v0, p, q)\n",
    "    param_list = Dict{Tuple{Int, Int}, Float64}()\n",
    "    dijkstra_result = Graphs.dijkstra_shortest_paths(G, v0)\n",
    "    l = dijkstra_result.dists\n",
    "    neighbors = [Graphs.all_neighbors(G, i) for i in 1:Graphs.nv(G)]\n",
    "    \n",
    "    for i in 1:Graphs.nv(G)\n",
    "        for j in neighbors[i]\n",
    "            param_list[(i,j)] = w_ij_x0(l, i, j, p, q)    \n",
    "        end\n",
    "    end\n",
    "    return param_list\n",
    "end\n",
    "p = 0.5\n",
    "q = 0.1\n",
    "v0 = 2\n",
    "#println(\"1/w_p=\",1/p)\n",
    "#println(\"1/w_q=\",1/q)\n",
    "data1 = determin_param(G, v0, p, q)"
   ]
  },
  {
   "cell_type": "code",
   "execution_count": 17,
   "id": "c0bec7b0",
   "metadata": {},
   "outputs": [
    {
     "data": {
      "text/plain": [
       "ψ_dict (generic function with 1 method)"
      ]
     },
     "execution_count": 17,
     "metadata": {},
     "output_type": "execute_result"
    }
   ],
   "source": [
    "function dict_neighbor_list(G)\n",
    "    dict = Dict()\n",
    "    for node in 1:Graphs.nv(G)\n",
    "        dict[node] = Graphs.all_neighbors(G, node)\n",
    "    end\n",
    "    return dict\n",
    "end\n",
    "#dict_neighbor_list(G)\n",
    "\n",
    "function coin_dict(G, v0, p, q)\n",
    "    N = Graphs.nv(G)\n",
    "    dict_Ci = Dict()\n",
    "    determin_results = Dict()\n",
    "    weight_param = determin_param(G, v0, p, q)\n",
    "    neighbor_dict = dict_neighbor_list(G)\n",
    "    for node in 1:N\n",
    "        neighbor_list = neighbor_dict[node]\n",
    "        k = length(neighbor_list)\n",
    "        array = ones(Float64, k)\n",
    "        \n",
    "        for (idx, j) in enumerate(neighbor_list)\n",
    "            if !haskey(determin_results, (node, j))\n",
    "                determin_results[(node, j)] = weight_param[(node, j)]\n",
    "            end\n",
    "            array[idx] = determin_results[(node, j)]\n",
    "        end\n",
    "        \n",
    "        ψ = sqrt.(array) ./ sqrt(sum(array))\n",
    "        dict_Ci[node] = 2 * ψ * ψ' - Matrix{Float64}(I, k, k)\n",
    "    end\n",
    "    return dict_Ci\n",
    "end\n",
    "\n",
    "function ψ_dict(G, v0, p, q)\n",
    "    N = Graphs.nv(G)\n",
    "    dict_ψ0 = Dict()\n",
    "    dict_ψ1 = Dict{Tuple{Int, Int}, Float64}()\n",
    "    determin_results = Dict()\n",
    "    weight_param = determin_param(G, v0, p, q)\n",
    "    neighbor_dict = dict_neighbor_list(G)\n",
    "    for node in 1:N\n",
    "        neighbor_list = neighbor_dict[node]\n",
    "        k = length(neighbor_list)\n",
    "        array = ones(Float64, k)\n",
    "        \n",
    "        for (idx, j) in enumerate(neighbor_list)\n",
    "            if !haskey(determin_results, (node, j))\n",
    "                determin_results[(node, j)] = weight_param[(node, j)]\n",
    "            end\n",
    "            array[idx] = determin_results[(node, j)]\n",
    "        end\n",
    "        ##initial state\n",
    "        ψ = sqrt.(array) ./ sqrt(sum(array) * N)\n",
    "        dict_ψ0[node] = ψ\n",
    "    end\n",
    "    \n",
    "    for node in 1:N\n",
    "        neighbor_list = neighbor_dict[node]\n",
    "        for (idx, j) in enumerate(neighbor_list)\n",
    "            dict_ψ1[(node, j)] = dict_ψ0[node][idx]\n",
    "        end\n",
    "    end\n",
    "    return dict_ψ1\n",
    "end\n"
   ]
  },
  {
   "cell_type": "code",
   "execution_count": 18,
   "id": "c2c46d8f",
   "metadata": {},
   "outputs": [
    {
     "data": {
      "text/plain": [
       "DTQW (generic function with 1 method)"
      ]
     },
     "execution_count": 18,
     "metadata": {},
     "output_type": "execute_result"
    }
   ],
   "source": [
    "function DTQW(G,v0,p,q,itr)\n",
    "    N = Graphs.nv(G)\n",
    "    weight_param = determin_param(G, v0, p, q)\n",
    "    neighbor_dict = dict_neighbor_list(G)\n",
    "    coin = coin_dict(G, v0, p, q)\n",
    "    dict_ψt = ψ_dict(G,v0,p,q)\n",
    "    feature_vec_v0 = zeros(N,itr)\n",
    "    \n",
    "    for t in 1:itr\n",
    "        next_dict_ψt = Dict{Tuple{Int, Int}, Float64}()\n",
    "        for node in 1:N\n",
    "            neighbor_list = neighbor_dict[node]\n",
    "            k = length(neighbor_list)\n",
    "            array = ones(Float64, k)\n",
    "            for (idx, j) in enumerate(neighbor_list)\n",
    "                array[idx] = dict_ψt[(node,j)]\n",
    "            end\n",
    "            Cψ = coin[node]*array\n",
    "            \n",
    "            #shift operator\n",
    "            for (idx,j) in enumerate(neighbor_list)\n",
    "                next_dict_ψt[(j,node)] = Cψ[idx]\n",
    "            end\n",
    "        end\n",
    "        dict_ψt = next_dict_ψt\n",
    "        \n",
    "        #prob\n",
    "        dict_prob = Dict{Int, Float64}()\n",
    "        for node in 1:N\n",
    "            neighbor_list = neighbor_dict[node]\n",
    "            k = length(neighbor_list)\n",
    "            array = ones(Float64, k)\n",
    "            for (idx, j) in enumerate(neighbor_list)\n",
    "                #println(node, j)\n",
    "                array[idx]　= dict_ψt[(node,j)]^2\n",
    "            end\n",
    "            dict_prob[node] = sum(array)\n",
    "        end\n",
    "        \n",
    "        for node in 1:N\n",
    "            feature_vec_v0[node,t] = dict_prob[node]\n",
    "        end\n",
    "        \n",
    "    end\n",
    "    return feature_vec_v0\n",
    "end"
   ]
  },
  {
   "cell_type": "code",
   "execution_count": 19,
   "id": "17c3222a",
   "metadata": {},
   "outputs": [
    {
     "data": {
      "text/plain": [
       "feature_vector (generic function with 1 method)"
      ]
     },
     "execution_count": 19,
     "metadata": {},
     "output_type": "execute_result"
    }
   ],
   "source": [
    "using ProgressBars\n",
    "\n",
    "function feature_vector(G,p,q,itr)\n",
    "    N = Graphs.nv(G)\n",
    "    feature_vec = zeros(N,itr)\n",
    "    for v0 in 1:N\n",
    "        feature_vec .+= DTQW(G,v0,p,q,itr)\n",
    "    end\n",
    "    return feature_vec\n",
    "end"
   ]
  },
  {
   "cell_type": "code",
   "execution_count": 20,
   "id": "404217ad",
   "metadata": {
    "scrolled": true
   },
   "outputs": [
    {
     "data": {
      "text/plain": [
       "make_dataset (generic function with 1 method)"
      ]
     },
     "execution_count": 20,
     "metadata": {},
     "output_type": "execute_result"
    }
   ],
   "source": [
    "itr = 400\n",
    "param_list = [0.25,0.50,1.0,2.0,4.0]\n",
    "\n",
    "\n",
    "function make_dataset(itr,param_list)\n",
    "    for p in tqdm(param_list)\n",
    "        for q in param_list\n",
    "            feature_vec = feature_vector(G,p,q,itr)\n",
    "            dir_name = \"feature_vec_of_qw/\"*\"$X\"*\"/superposition/modify\"\n",
    "            file_name = \"/p$p\"*\"q$q\"*\"_feature_vec_itr$itr.csv\"\n",
    "            #dir_name = \"feature_vec_of_qw/\"*\"$X\"*\"/superposition/\"*\"p$p\"*\"q$q\"*\"_feature_vec_itr$itr.csv\"\n",
    "            #mkdir(dir_name)\n",
    "            writedlm( dir_name*file_name,  feature_vec, ',')\n",
    "        end\n",
    "    end\n",
    "end"
   ]
  },
  {
   "cell_type": "code",
   "execution_count": 21,
   "id": "aae9b87f",
   "metadata": {},
   "outputs": [
    {
     "name": "stderr",
     "output_type": "stream",
     "text": [
      "0.0%┣                                                ┫ 0/5 [00:00<00:00, -0s/it]\n",
      "20.0%┣████████▋                                  ┫ 1/5 [00:09<Inf:Inf, InfGs/it]\n",
      "40.0%┣██████████████████▉                            ┫ 2/5 [00:18<00:55, 18s/it]\n",
      "60.0%┣████████████████████████████▏                  ┫ 3/5 [00:27<00:27, 14s/it]\n",
      "80.0%┣█████████████████████████████████████▋         ┫ 4/5 [00:36<00:12, 12s/it]\n",
      "100.0%┣██████████████████████████████████████████████┫ 5/5 [00:45<00:00, 11s/it]\n",
      "100.0%┣██████████████████████████████████████████████┫ 5/5 [00:45<00:00, 11s/it]\n"
     ]
    }
   ],
   "source": [
    "make_dataset(itr,param_list)"
   ]
  },
  {
   "cell_type": "code",
   "execution_count": null,
   "id": "b19ea073",
   "metadata": {},
   "outputs": [],
   "source": []
  },
  {
   "cell_type": "code",
   "execution_count": null,
   "id": "bbe67c89",
   "metadata": {},
   "outputs": [],
   "source": []
  }
 ],
 "metadata": {
  "kernelspec": {
   "display_name": "Julia 1.6.1",
   "language": "julia",
   "name": "julia-1.6"
  },
  "language_info": {
   "file_extension": ".jl",
   "mimetype": "application/julia",
   "name": "julia",
   "version": "1.6.1"
  }
 },
 "nbformat": 4,
 "nbformat_minor": 5
}
